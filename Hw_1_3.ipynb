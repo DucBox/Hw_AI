{
  "nbformat": 4,
  "nbformat_minor": 0,
  "metadata": {
    "colab": {
      "provenance": [],
      "authorship_tag": "ABX9TyMn1U9cQhB9q4m/qgczF7vc",
      "include_colab_link": true
    },
    "kernelspec": {
      "name": "python3",
      "display_name": "Python 3"
    },
    "language_info": {
      "name": "python"
    }
  },
  "cells": [
    {
      "cell_type": "markdown",
      "metadata": {
        "id": "view-in-github",
        "colab_type": "text"
      },
      "source": [
        "<a href=\"https://colab.research.google.com/github/DucBox/Hw_AI/blob/main/Hw_1_3.ipynb\" target=\"_parent\"><img src=\"https://colab.research.google.com/assets/colab-badge.svg\" alt=\"Open In Colab\"/></a>"
      ]
    },
    {
      "cell_type": "code",
      "execution_count": 4,
      "metadata": {
        "colab": {
          "base_uri": "https://localhost:8080/"
        },
        "id": "2WF5NZJ70t-G",
        "outputId": "4a971235-76e6-404c-a000-604934cd8322"
      },
      "outputs": [
        {
          "output_type": "stream",
          "name": "stdout",
          "text": [
            "Decision Tree Accuracy = 0.7366 (0.0212)\n",
            "Decision Stump Accuracy = 0.7938 (0.0037)\n",
            "3-level Decision Tree Accuracy = 0.7575 (0.0195)\n"
          ]
        }
      ],
      "source": [
        "import numpy as np\n",
        "from sklearn import tree\n",
        "from sklearn.metrics import accuracy_score\n",
        "\n",
        "def evaluatePerformance():\n",
        "    # Load Data\n",
        "    filename = '/content/SPECTF.dat'\n",
        "    data = np.loadtxt(filename, delimiter=',')\n",
        "    X = data[:, 1:]\n",
        "    y = np.array([data[:, 0]]).T\n",
        "    n, d = X.shape\n",
        "\n",
        "    # Shuffle the data\n",
        "    idx = np.arange(n)\n",
        "    np.random.seed(13)\n",
        "    np.random.shuffle(idx)\n",
        "    X = X[idx]\n",
        "    y = y[idx]\n",
        "\n",
        "    # Number of trials and folds\n",
        "    num_trials = 100\n",
        "    num_folds = 10\n",
        "\n",
        "    # Initialize arrays to store accuracy values\n",
        "    decision_tree_accuracies = np.zeros(num_trials)\n",
        "    decision_stump_accuracies = np.zeros(num_trials)\n",
        "    dt3_accuracies = np.zeros(num_trials)\n",
        "\n",
        "    for t in range(num_trials):\n",
        "        # Shuffle the data at the start of each trial\n",
        "        np.random.shuffle(idx)\n",
        "        X = X[idx]\n",
        "        y = y[idx]\n",
        "\n",
        "        # num_folds = 10 => fold_size = 26\n",
        "        fold_size = n // num_folds\n",
        "\n",
        "        # Initialize arrays to store accuracy values for each fold\n",
        "        decision_tree_fold_accuracies = np.zeros(num_folds)\n",
        "        decision_stump_fold_accuracies = np.zeros(num_folds)\n",
        "        dt3_fold_accuracies = np.zeros(num_folds)\n",
        "\n",
        "        for fold in range(num_folds):\n",
        "            # Split data into training and testing sets\n",
        "            test_indices = range(fold * fold_size, (fold + 1) * fold_size)\n",
        "            train_indices = [i for i in range(n) if i not in test_indices]\n",
        "\n",
        "            Xtrain, Xtest = X[train_indices, :], X[test_indices, :]\n",
        "            ytrain, ytest = y[train_indices, :], y[test_indices, :]\n",
        "\n",
        "            # Train the decision tree\n",
        "            clf = tree.DecisionTreeClassifier()\n",
        "            clf = clf.fit(Xtrain, ytrain)\n",
        "\n",
        "            # Output predictions on the test data\n",
        "            y_pred = clf.predict(Xtest)\n",
        "\n",
        "            # Compute accuracy for decision tree\n",
        "            decision_tree_fold_accuracies[fold] = accuracy_score(ytest, y_pred)\n",
        "\n",
        "            # Train the decision stump\n",
        "            clf_stump = tree.DecisionTreeClassifier(max_depth=1)\n",
        "            clf_stump = clf_stump.fit(Xtrain, ytrain)\n",
        "\n",
        "            # Output predictions on the test data for decision stump\n",
        "            y_pred_stump = clf_stump.predict(Xtest)\n",
        "\n",
        "            # Compute accuracy for decision stump\n",
        "            decision_stump_fold_accuracies[fold] = accuracy_score(ytest, y_pred_stump)\n",
        "\n",
        "            # Train the 3-level decision tree\n",
        "            clf_dt3 = tree.DecisionTreeClassifier(max_depth=3)\n",
        "            clf_dt3 = clf_dt3.fit(Xtrain, ytrain)\n",
        "\n",
        "            # Output predictions on the test data for 3-level decision tree\n",
        "            y_pred_dt3 = clf_dt3.predict(Xtest)\n",
        "\n",
        "            # Compute accuracy for 3-level decision tree\n",
        "            dt3_fold_accuracies[fold] = accuracy_score(ytest, y_pred_dt3)\n",
        "\n",
        "        # Average accuracy over folds for each trial\n",
        "        # np.mean() => Calculate avarage number of numpyarray\n",
        "        decision_tree_accuracies[t] = np.mean(decision_tree_fold_accuracies)\n",
        "        decision_stump_accuracies[t] = np.mean(decision_stump_fold_accuracies)\n",
        "        dt3_accuracies[t] = np.mean(dt3_fold_accuracies)\n",
        "\n",
        "    # Compute mean and standard deviation over all trials\n",
        "    mean_decision_tree_accuracy = np.mean(decision_tree_accuracies)\n",
        "    std_decision_tree_accuracy = np.std(decision_tree_accuracies)\n",
        "\n",
        "    mean_decision_stump_accuracy = np.mean(decision_stump_accuracies)\n",
        "    std_decision_stump_accuracy = np.std(decision_stump_accuracies)\n",
        "\n",
        "    mean_dt3_accuracy = np.mean(dt3_accuracies)\n",
        "    std_dt3_accuracy = np.std(dt3_accuracies)\n",
        "\n",
        "    # Return the statistics\n",
        "    stats = np.array([[mean_decision_tree_accuracy, std_decision_tree_accuracy],\n",
        "                      [mean_decision_stump_accuracy, std_decision_stump_accuracy],\n",
        "                      [mean_dt3_accuracy, std_dt3_accuracy]])\n",
        "\n",
        "    return stats\n",
        "\n",
        "if __name__ == \"__main__\":\n",
        "    stats = evaluatePerformance()\n",
        "    print(\"Decision Tree Accuracy = {:.4f} ({:.4f})\".format(stats[0, 0], stats[0, 1]))\n",
        "    print(\"Decision Stump Accuracy = {:.4f} ({:.4f})\".format(stats[1, 0], stats[1, 1]))\n",
        "    print(\"3-level Decision Tree Accuracy = {:.4f} ({:.4f})\".format(stats[2, 0], stats[2, 1]))\n"
      ]
    }
  ]
}